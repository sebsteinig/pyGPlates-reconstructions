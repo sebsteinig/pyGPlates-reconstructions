{
 "cells": [
  {
   "cell_type": "markdown",
   "id": "f3f7adc5",
   "metadata": {
    "colab_type": "text",
    "id": "view-in-github",
    "tags": []
   },
   "source": [
    "<a href=\"https://colab.research.google.com/github/sebsteinig/analysis_template/blob/main/notebook_template.ipynb\" target=\"_parent\"><img src=\"https://colab.research.google.com/assets/colab-badge.svg\" alt=\"Open In Colab\"/></a>"
   ]
  },
  {
   "cell_type": "markdown",
   "id": "e3e04fe8-9fb9-4e10-8c80-1143682b3ffc",
   "metadata": {},
   "source": [
    "# pyGPlates site reconstructions\n",
    "Reconstruct paleolocations of present-day locations across the Phanerozoic. PyGplates allows to use some of the functionality of the GUI GPlates software within python scripts. This allows scripting to automatically process many different locations and/or time periods. Different rotation models can be used and are easily exchangeable. I currently use the PALEOMAP rotation model that is consistent to the Bristol Scotese simulations by Paul Valdes."
   ]
  },
  {
   "cell_type": "markdown",
   "id": "b4c77a9b-587f-454c-a90a-024912aa4060",
   "metadata": {},
   "source": [
    "## Prelude (only necesseary when running on Google Colab)\n",
    "If running on Google Colab, execute the following cell to download the repo and install pyGPlates on the virtual machine. \n",
    "\n",
    "If running somewhere else, you can execute the whole notebooks and this part will be skipped automatically."
   ]
  },
  {
   "cell_type": "code",
   "execution_count": 5,
   "id": "da9750a6-abd1-47fd-a1a4-875982a67d90",
   "metadata": {},
   "outputs": [
    {
     "name": "stdout",
     "output_type": "stream",
     "text": [
      "not running on Google Colab\n"
     ]
    }
   ],
   "source": [
    "# detect if we are running on colab\n",
    "try:\n",
    "    import google.colab\n",
    "    IN_COLAB = True\n",
    "except:\n",
    "    IN_COLAB = False\n",
    "    print('not running on Google Colab')\n",
    "\n",
    "if IN_COLAB:\n",
    "# configure environment on Colab\n",
    "    import google.colab\n",
    "\n",
    "    # if on Colab, clone the repository to access the data locally\n",
    "    import os\n",
    "    repo = \"pyGPlates-reconstructions-template\"\n",
    "\n",
    "    # clone repo if it does not already exist\n",
    "    if not os.path.exists(repo):\n",
    "        print('cloning GitHub repository '+repo)\n",
    "        !git clone https://github.com/sebsteinig/{repo}.git\n",
    "  \n",
    "    %cd {repo}\n",
    "    \n",
    "    # install pygplates\n",
    "    !sudo apt install bin/pygplates_0.36.0_py36_ubuntu-18.04-amd64.deb\n",
    "    "
   ]
  },
  {
   "cell_type": "markdown",
   "id": "6e991c20-c7f3-4233-b143-44411c613f9d",
   "metadata": {},
   "source": [
    "## User input\n",
    "define variables/lists to quickly change inputs to the notebook"
   ]
  },
  {
   "cell_type": "code",
   "execution_count": 6,
   "id": "44853eaf-bc9c-4f72-8328-a83d9653ffc2",
   "metadata": {},
   "outputs": [],
   "source": [
    "# input csv file with label, modern latitude, modern longitude\n",
    "file_input_sites = 'input_sites_example.csv'\n",
    "\n",
    "# list of ages (in Ma) for which we want to reconstruct paleolocations for the input sites\n",
    "ages           = ['0', '100', '200', '300']\n",
    "\n"
   ]
  },
  {
   "cell_type": "markdown",
   "id": "599af786-b4f7-450d-b80b-884a0c402067",
   "metadata": {},
   "source": [
    "## import pygplates and other packages"
   ]
  },
  {
   "cell_type": "code",
   "execution_count": 7,
   "id": "f7c604eb-26b6-45c9-aa30-a255373b6044",
   "metadata": {},
   "outputs": [],
   "source": [
    "import os\n",
    "import sys\n",
    "import pandas as pd\n",
    "\n",
    "# add pygplates to python path\n",
    "if IN_COLAB:\n",
    "  sys.path.insert(0, os.path.abspath('/usr/lib')) # ubuntu VM on colab\n",
    "else:\n",
    "  sys.path.insert(0, os.path.abspath('./bin/pygplates_0.36.0_py37_Darwin-x86_64')) # macOS Intel \n",
    "import pygplates\n",
    "\n"
   ]
  },
  {
   "cell_type": "markdown",
   "id": "f8f03dcd-f01a-47e6-bcf5-3b6684cf28fa",
   "metadata": {},
   "source": [
    "## load plate model\n",
    "List of available models at http://portal.gplates.org/portal/rotation_models/.\n",
    "Here we are using the 'PALEOMAP PaleoAtlas for GPlates'by Scotese et al. (https://www.earthbyte.org/paleomap-paleoatlas-for-gplates/)"
   ]
  },
  {
   "cell_type": "code",
   "execution_count": 10,
   "id": "WcMt0hmK_38Q",
   "metadata": {
    "colab": {
     "base_uri": "https://localhost:8080/"
    },
    "id": "WcMt0hmK_38Q",
    "outputId": "1ca62e3a-a818-48f8-aea4-d2827f558cdb"
   },
   "outputs": [],
   "source": [
    "# static polygons are the 'partitioning features'\n",
    "static_polygons = pygplates.FeatureCollection('PALEOMAP_Global_Plate_Model/PALEOMAP_PlatePolygons.gpml')\n",
    "# actual rotation model\n",
    "rotation_model=pygplates.RotationModel('PALEOMAP_Global_Plate_Model/PALEOMAP_PlateModel.rot')"
   ]
  },
  {
   "cell_type": "markdown",
   "id": "9cea8cfa-504b-4fd2-a6fb-fbe02829d363",
   "metadata": {},
   "source": [
    "## Main code\n",
    "3-step process to reconstruct paleolocations:\n",
    "1. combine input points into feature collection\n",
    "2. assign plate ids to features\n",
    "3. reconstruct paleolocations for features"
   ]
  },
  {
   "cell_type": "code",
   "execution_count": 11,
   "id": "bd729772-cf62-44b4-9803-aa4646174491",
   "metadata": {},
   "outputs": [
    {
     "name": "stdout",
     "output_type": "stream",
     "text": [
      "Directory  ./reconstructed-shapes/0Ma  Created \n",
      "Paleolocation for Shaffer-Rohling_Core at 0Ma (LAT/LON): 35.8/-98.2\n",
      "Paleolocation for I35_Sycamore_South at 0Ma (LAT/LON): 34.4/-97.1\n",
      "Paleolocation for Kansas_OK_Outcrop at 0Ma (LAT/LON): 36.2/-94.8\n",
      "Paleolocation for Hamsten_Unit_Core at 0Ma (LAT/LON): 36.8/-98.9\n",
      "Paleolocation for Bakken at 0Ma (LAT/LON): 50.8/-110.5\n",
      "Directory  ./reconstructed-shapes/100Ma  Created \n",
      "Paleolocation for Shaffer-Rohling_Core at 100Ma (LAT/LON): 33.2/-60.8\n",
      "Paleolocation for I35_Sycamore_South at 100Ma (LAT/LON): 31.6/-60.2\n",
      "Paleolocation for Kansas_OK_Outcrop at 100Ma (LAT/LON): 32.8/-57.5\n",
      "Paleolocation for Hamsten_Unit_Core at 100Ma (LAT/LON): 34.3/-61.1\n",
      "Paleolocation for Bakken at 100Ma (LAT/LON): 50.1/-66.0\n",
      "Directory  ./reconstructed-shapes/200Ma  Created \n",
      "Paleolocation for Shaffer-Rohling_Core at 200Ma (LAT/LON): 15.2/-40.1\n",
      "Paleolocation for I35_Sycamore_South at 200Ma (LAT/LON): 13.7/-39.1\n",
      "Paleolocation for Kansas_OK_Outcrop at 200Ma (LAT/LON): 15.6/-37.1\n",
      "Paleolocation for Hamsten_Unit_Core at 200Ma (LAT/LON): 16.2/-40.6\n",
      "Paleolocation for Bakken at 200Ma (LAT/LON): 30.6/-48.8\n",
      "Directory  ./reconstructed-shapes/300Ma  Created \n",
      "Paleolocation for Shaffer-Rohling_Core at 300Ma (LAT/LON): -3.2/-30.7\n",
      "Paleolocation for I35_Sycamore_South at 300Ma (LAT/LON): -4.9/-30.8\n",
      "Paleolocation for Kansas_OK_Outcrop at 300Ma (LAT/LON): -4.3/-28.2\n",
      "Paleolocation for Hamsten_Unit_Core at 300Ma (LAT/LON): -2.1/-30.6\n",
      "Paleolocation for Bakken at 300Ma (LAT/LON): 14.1/-28.8\n"
     ]
    }
   ],
   "source": [
    "# load point coordinates\n",
    "df_sites = pd.read_csv(file_input_sites,sep=',')\n",
    "\n",
    "for ageCount, age in enumerate(ages):\n",
    "    \n",
    "    # Create target directory & all intermediate directories if don't exists\n",
    "    dirName = './reconstructed-shapes/'+ ages[ageCount] + 'Ma'\n",
    "    if not os.path.exists(dirName):\n",
    "        os.makedirs(dirName)\n",
    "        print(\"Directory \" , dirName ,  \" Created \")\n",
    "    else:    \n",
    "        print(\"Directory \" , dirName ,  \" already exists\") \n",
    "    \n",
    "    #### step 1: put the points into a feature collection, using Lat,Lon coordinates from dataframe\n",
    "    point_features = []\n",
    "    for index,row in df_sites.iterrows():\n",
    "        point = pygplates.PointOnSphere(float(row.LAT),float(row.LON))\n",
    "        point_feature = pygplates.Feature()\n",
    "        point_feature.set_geometry(point)\n",
    "        point_features.append(point_feature)\n",
    "\n",
    "    ### step 2: assign plate ids to features\n",
    "    # To reconstruct any feature geometries, each feature must have a plate id assigned. If they don't already, \n",
    "    # then the pygplates function 'PlatePartitioner' performs this function (analogous to the 'assign plate ids' \n",
    "    # menu option in GPlates GUI) \n",
    "    partitioned_point_features = pygplates.partition_into_plates(static_polygons, rotation_model, point_features) \n",
    "\n",
    "    ### step 3: reconstruct paleolocations for features\n",
    "    # Two possible ways:\n",
    "    \n",
    "    # 1. save shape files to disk for later use (e.g. load sahpefiles into python script for direct plotting)\n",
    "    pygplates.reconstruct(partitioned_point_features, rotation_model, dirName +'/NA-sites.shp', float(ages[ageCount]))\n",
    "    \n",
    "    # 2. output paleolocations directly\n",
    "    reconstructed_feature_geometries = []\n",
    "    pygplates.reconstruct(partitioned_point_features, rotation_model, reconstructed_feature_geometries, float(ages[ageCount]))    \n",
    "    for siteCount, reconstructed_feature_geometry in enumerate(reconstructed_feature_geometries):\n",
    "        paleoLocation = reconstructed_feature_geometry.get_reconstructed_geometry().to_lat_lon()\n",
    "        print('Paleolocation for ' + df_sites.name[siteCount] + ' at ' + ages[ageCount] + 'Ma (LAT/LON): ' + str(round(paleoLocation[0],1)) + '/'+str(round(paleoLocation[1],1)) )\n"
   ]
  },
  {
   "cell_type": "code",
   "execution_count": null,
   "id": "5358137f-a6fb-4829-aca0-1ea21686d6ef",
   "metadata": {},
   "outputs": [],
   "source": []
  },
  {
   "cell_type": "code",
   "execution_count": null,
   "id": "06f6e566-f649-42c2-b027-5101f43c28fb",
   "metadata": {},
   "outputs": [],
   "source": []
  }
 ],
 "metadata": {
  "colab": {
   "collapsed_sections": [],
   "include_colab_link": true,
   "provenance": []
  },
  "jupytext": {
   "formats": "ipynb,auto:light"
  },
  "kernelspec": {
   "display_name": "Python 3 (ipykernel)",
   "language": "python",
   "name": "python3"
  },
  "language_info": {
   "codemirror_mode": {
    "name": "ipython",
    "version": 3
   },
   "file_extension": ".py",
   "mimetype": "text/x-python",
   "name": "python",
   "nbconvert_exporter": "python",
   "pygments_lexer": "ipython3",
   "version": "3.7.0"
  }
 },
 "nbformat": 4,
 "nbformat_minor": 5
}
